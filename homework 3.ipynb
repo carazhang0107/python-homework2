{
 "cells": [
  {
   "cell_type": "code",
   "execution_count": 1,
   "metadata": {
    "collapsed": true
   },
   "outputs": [],
   "source": [
    "cc=\"4026491749174917\""
   ]
  },
  {
   "cell_type": "code",
   "execution_count": 3,
   "metadata": {},
   "outputs": [
    {
     "name": "stdout",
     "output_type": "stream",
     "text": [
      "VISAELECTRON\n"
     ]
    }
   ],
   "source": [
    "if (cc[0:2]==\"34\" or cc[0:2]==\"37\")and(len(cc)==15):\n",
    "    print(\"AMEX\")\n",
    "if (cc[0:2]==\"36\")and(len(cc)==14):\n",
    "    print(\"Diners Club\")\n",
    "if (cc[0:1]==\"4\")and(len(cc)==16):\n",
    "    if(cc[0:4]==\"4026\"or cc[0:4]==\"4405\"or cc[0:4]=='4508' or cc[0:4]==\"4844\" or cc[0:4]==\"4913\" or cc[0:4]==\"4917\" or cc[0:6]==\"417500\"):\n",
    "        print(\"VISAELECTRON\")\n",
    "    else:\n",
    "        print(\"VISA\")"
   ]
  },
  {
   "cell_type": "code",
   "execution_count": null,
   "metadata": {
    "collapsed": true
   },
   "outputs": [],
   "source": []
  },
  {
   "cell_type": "code",
   "execution_count": null,
   "metadata": {
    "collapsed": true
   },
   "outputs": [],
   "source": []
  },
  {
   "cell_type": "code",
   "execution_count": null,
   "metadata": {
    "collapsed": true
   },
   "outputs": [],
   "source": []
  },
  {
   "cell_type": "code",
   "execution_count": null,
   "metadata": {
    "collapsed": true
   },
   "outputs": [],
   "source": []
  },
  {
   "cell_type": "code",
   "execution_count": null,
   "metadata": {
    "collapsed": true
   },
   "outputs": [],
   "source": []
  }
 ],
 "metadata": {
  "kernelspec": {
   "display_name": "Python 2",
   "language": "python",
   "name": "python2"
  },
  "language_info": {
   "codemirror_mode": {
    "name": "ipython",
    "version": 2
   },
   "file_extension": ".py",
   "mimetype": "text/x-python",
   "name": "python",
   "nbconvert_exporter": "python",
   "pygments_lexer": "ipython2",
   "version": "2.7.14"
  }
 },
 "nbformat": 4,
 "nbformat_minor": 2
}
